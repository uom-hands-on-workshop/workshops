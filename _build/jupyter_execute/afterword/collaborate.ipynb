{
 "cells": [
  {
   "cell_type": "markdown",
   "metadata": {
    "pycharm": {
     "name": "#%% md\n"
    },
    "tags": [
     "remove-input"
    ]
   },
   "source": [
    "# Collaborate With Us\n",
    "\n",
    "Do you have ideas how to improve these notes? Submit your ideas below and we will get back to you 😊"
   ]
  },
  {
   "cell_type": "code",
   "execution_count": 1,
   "metadata": {
    "collapsed": false,
    "jupyter": {
     "outputs_hidden": false
    },
    "pycharm": {
     "name": "#%%\n"
    },
    "tags": [
     "remove-input"
    ]
   },
   "outputs": [
    {
     "data": {
      "text/html": [
       "\n",
       "<iframe\n",
       "    src=\"https://q.surveys.unimelb.edu.au/jfe/form/SV_cUtfe5XeaFN7Eay\"\n",
       "    width=\"640\"\n",
       "    height=\"919\"\n",
       "    frameborder=\"0\"\n",
       "    marginheight=\"0\"\n",
       "    marginwidth=\"0\">\n",
       "    Loading…\n",
       "</iframe>\n"
      ],
      "text/plain": [
       "<IPython.core.display.HTML object>"
      ]
     },
     "execution_count": 1,
     "metadata": {},
     "output_type": "execute_result"
    }
   ],
   "source": [
    "from IPython.display import HTML\n",
    "HTML(\n",
    "\"\"\"\n",
    "<iframe\n",
    "    src=\"https://q.surveys.unimelb.edu.au/jfe/form/SV_cUtfe5XeaFN7Eay\"\n",
    "    width=\"640\"\n",
    "    height=\"919\"\n",
    "    frameborder=\"0\"\n",
    "    marginheight=\"0\"\n",
    "    marginwidth=\"0\">\n",
    "    Loading…\n",
    "</iframe>\n",
    "\"\"\"\n",
    ")"
   ]
  }
 ],
 "metadata": {
  "kernelspec": {
   "display_name": "Python 3 (ipykernel)",
   "language": "python",
   "name": "python3"
  },
  "language_info": {
   "codemirror_mode": {
    "name": "ipython",
    "version": 3
   },
   "file_extension": ".py",
   "mimetype": "text/x-python",
   "name": "python",
   "nbconvert_exporter": "python",
   "pygments_lexer": "ipython3",
   "version": "3.12.2"
  }
 },
 "nbformat": 4,
 "nbformat_minor": 4
}